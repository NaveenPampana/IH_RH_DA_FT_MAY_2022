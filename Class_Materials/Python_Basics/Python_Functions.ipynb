{
 "cells": [
  {
   "cell_type": "markdown",
   "metadata": {},
   "source": [
    "## Functions"
   ]
  },
  {
   "cell_type": "markdown",
   "metadata": {},
   "source": [
    "A function is a 'device' that groups a set of statements so they can be run more than once in a program.\n",
    "\n",
    "They let us specify parameters (arguments) as inputs.\n",
    "\n",
    "**Why use functions?**\n",
    "\n",
    "- Maximizing code re-use and minimizing redundancy\n",
    "Because we can group operations in a single place (with a single name) and call it many times, we have to write less code.\n",
    "'Packing' your code into functions is generally a way to make it more useful, portable and easy to automatize and re-use.\n",
    "- Easier to debug.\n",
    "- more Organised code.\n",
    "- sharing code more effeciently( building packages).\n",
    "\n",
    "\n",
    "Functions help you split programs into parts that have meaning and has a specific purpose. Your programs should be split into chunks (functions), each with its sub-tasks."
   ]
  },
  {
   "cell_type": "markdown",
   "metadata": {},
   "source": [
    "### Coding functions\n",
    "\n",
    "- **def** is executable code. We have to execute the code for the function to exist. def creates an object and assigns it to a name. A new function object is created and assigned to the function's name.\n",
    "\n",
    "- **return** sends a result back to the caller\n",
    "\n",
    "- **global** and **non-local** adjust the scope of variables. By default, all names assigned in a function are local to that function and exist only while the function runs. To assign a name in the enclosing module, functions need to list it in a global statement. More generally, names are always looked up in scopes—places where variables are stored —and assignments bind names to scopes.\n",
    "\n",
    "- **arguments** are passed by position, unless you specify otherwise\n",
    "\n"
   ]
  },
  {
   "cell_type": "markdown",
   "metadata": {},
   "source": [
    "#### def Statement\n",
    "\n",
    "`def name(arg1, arg2, ... argN):\n",
    "    ...\n",
    "    return value`"
   ]
  },
  {
   "cell_type": "markdown",
   "metadata": {},
   "source": [
    "## Function definition "
   ]
  },
  {
   "cell_type": "code",
   "execution_count": null,
   "metadata": {},
   "outputs": [],
   "source": [
    "## function definition \n",
    "def adding_constant(input_var,second_num=0):\n",
    "    result= input_var+second_num+5  ##logic \n",
    "\n",
    "    return result"
   ]
  },
  {
   "cell_type": "code",
   "execution_count": null,
   "metadata": {
    "scrolled": true
   },
   "outputs": [],
   "source": [
    "adding_constant(7)"
   ]
  },
  {
   "cell_type": "markdown",
   "metadata": {},
   "source": [
    "##  function calling / executing "
   ]
  },
  {
   "cell_type": "code",
   "execution_count": null,
   "metadata": {},
   "outputs": [],
   "source": [
    "y=15\n",
    "z=10\n",
    "q=7"
   ]
  },
  {
   "cell_type": "code",
   "execution_count": null,
   "metadata": {},
   "outputs": [],
   "source": [
    "##. Executing the function. ,  calling the function   user-defined function \n",
    "print(adding_constant(y))\n",
    "print(adding_constant(z))\n",
    "print(adding_constant(q))"
   ]
  },
  {
   "cell_type": "code",
   "execution_count": null,
   "metadata": {
    "scrolled": true
   },
   "outputs": [],
   "source": [
    "for i in [y,z,q]:\n",
    "    print(adding_constant(i))"
   ]
  },
  {
   "cell_type": "markdown",
   "metadata": {},
   "source": [
    "### Built-in function"
   ]
  },
  {
   "cell_type": "code",
   "execution_count": null,
   "metadata": {},
   "outputs": [],
   "source": [
    "x= 3.4556\n",
    "round(x,2)"
   ]
  },
  {
   "cell_type": "code",
   "execution_count": null,
   "metadata": {},
   "outputs": [],
   "source": [
    "##. take any number and multiply it by 15\n",
    "def product_by_constant(input_num):\n",
    "    return input_num * 15"
   ]
  },
  {
   "cell_type": "code",
   "execution_count": null,
   "metadata": {},
   "outputs": [],
   "source": [
    "product_by_constant(12)"
   ]
  },
  {
   "cell_type": "code",
   "execution_count": null,
   "metadata": {},
   "outputs": [],
   "source": [
    "def process_sensor_data(input_var):\n",
    "    '''\n",
    "    Document your function!\n",
    "    Arguments, type of arguments\n",
    "    Output, output type\n",
    "    Purpose of the function\n",
    "    '''\n",
    "      ## step1   result= 12\n",
    "    \n",
    "    return product_by_constant(adding_constant(input_var))   ##step2   result = 180"
   ]
  },
  {
   "cell_type": "code",
   "execution_count": null,
   "metadata": {},
   "outputs": [],
   "source": [
    "output_var = process_sensor_data(7) + 12 \n",
    "output_var"
   ]
  },
  {
   "cell_type": "code",
   "execution_count": null,
   "metadata": {},
   "outputs": [],
   "source": [
    "import random\n",
    "\n",
    "# some data\n",
    "students = [\"tommaso ramella\",\"peter zimmerman\",\"nima malayeri\",\"naveen pampana\",\"michael taylor\",\n",
    "            \"mauricio bock\",\"costanza brusutti\",\"sunita chand\",\"barbara vargas zarate\",\"adam koziak\"]\n",
    "teachers = [\"Nelson\", \"Rafa\"]\n",
    "\n",
    "# we can use a print statment every time\n",
    "print(\"There are \" + str(len(students)) + \" students at Ironhack Data Analytics - May 2022 \" + str(random.choice(students)) + \" is one of them.\")\n",
    "print(\"There are \" + str(len(teachers)) + \" teachers at Ironhack Data Analytics - May 2022. . \" + str(random.choice(teachers)) + \" is one of them.\")"
   ]
  },
  {
   "cell_type": "markdown",
   "metadata": {},
   "source": [
    "### Defining the function"
   ]
  },
  {
   "cell_type": "code",
   "execution_count": null,
   "metadata": {},
   "outputs": [],
   "source": [
    "# or we can define a function and use it whenever we need it\n",
    "def howmany(group, groupname): # we have to define the name of the 'group' because variable names are not accessible\n",
    "    import random\n",
    "    return(\"There are \" + (str(len(group))) + \" \" + (groupname) + \". \" + str(random.choice(group)) + \" is one of them.\")"
   ]
  },
  {
   "cell_type": "markdown",
   "metadata": {},
   "source": [
    "### Calling the function"
   ]
  },
  {
   "cell_type": "code",
   "execution_count": null,
   "metadata": {},
   "outputs": [],
   "source": [
    "print(howmany(students, \"students\"))\n",
    "print(howmany(teachers, \"teachers\"))"
   ]
  },
  {
   "cell_type": "markdown",
   "metadata": {},
   "source": [
    "<b>Definition"
   ]
  },
  {
   "cell_type": "code",
   "execution_count": null,
   "metadata": {},
   "outputs": [],
   "source": [
    "import math"
   ]
  },
  {
   "cell_type": "code",
   "execution_count": null,
   "metadata": {},
   "outputs": [],
   "source": [
    "def division(x, y):\n",
    "    if y==0: print(\"please give me non zero number\")\n",
    "    else:\n",
    "        return x / y"
   ]
  },
  {
   "cell_type": "markdown",
   "metadata": {},
   "source": [
    "<b>Call"
   ]
  },
  {
   "cell_type": "markdown",
   "metadata": {},
   "source": [
    "Unless specified otherwise, arguments are passed in order"
   ]
  },
  {
   "cell_type": "code",
   "execution_count": null,
   "metadata": {},
   "outputs": [],
   "source": [
    "division(10, 0)"
   ]
  },
  {
   "cell_type": "code",
   "execution_count": null,
   "metadata": {},
   "outputs": [],
   "source": [
    "division(y = 10, x = 2)"
   ]
  },
  {
   "cell_type": "code",
   "execution_count": null,
   "metadata": {},
   "outputs": [],
   "source": [
    "division(10,0)"
   ]
  },
  {
   "cell_type": "markdown",
   "metadata": {},
   "source": [
    "Arguments are not restricted to an object type (we never declare the types of variables, arguments or return values"
   ]
  },
  {
   "cell_type": "code",
   "execution_count": null,
   "metadata": {},
   "outputs": [],
   "source": [
    "def product(x, y):\n",
    "    return x * y\n",
    "\n",
    "print(product(8,9))\n",
    "print(product(\"he\", 9))"
   ]
  },
  {
   "cell_type": "markdown",
   "metadata": {},
   "source": [
    "What if we really want to constraint the function to only integers"
   ]
  },
  {
   "cell_type": "code",
   "execution_count": null,
   "metadata": {},
   "outputs": [],
   "source": [
    "def product_integers(x, y):\n",
    "    if type(x) == int:\n",
    "        if type(y) == int:\n",
    "            return(x*y)\n",
    "    else:\n",
    "        return \"Unfortunately, Only integers allowed!\""
   ]
  },
  {
   "cell_type": "code",
   "execution_count": null,
   "metadata": {},
   "outputs": [],
   "source": [
    "print(product_integers(8, 2))\n",
    "print(product_integers(\"a\", 4))"
   ]
  },
  {
   "cell_type": "code",
   "execution_count": null,
   "metadata": {},
   "outputs": [],
   "source": [
    "# Build a function to return the intersection of two sets\n",
    "def intersect(set1, set2):\n",
    "    res = []                     # Start empty\n",
    "    for x in set1:               # Scan seq1\n",
    "        if x in set2:            # Common item?\n",
    "            res.append(x)        # Add to end\n",
    "    return res"
   ]
  },
  {
   "cell_type": "code",
   "execution_count": null,
   "metadata": {},
   "outputs": [],
   "source": [
    "small_primes = (1, 2, 3, 5, 7, 11, 13)\n",
    "fibonacci = (0, 1, 1, 2, 3, 5, 8, 13)\n",
    "\n",
    "intersect(small_primes, fibonacci)"
   ]
  },
  {
   "cell_type": "markdown",
   "metadata": {},
   "source": [
    "### Scopes"
   ]
  },
  {
   "cell_type": "markdown",
   "metadata": {},
   "source": [
    "<b> local scope"
   ]
  },
  {
   "cell_type": "code",
   "execution_count": null,
   "metadata": {},
   "outputs": [],
   "source": [
    "x = 1990"
   ]
  },
  {
   "cell_type": "code",
   "execution_count": null,
   "metadata": {},
   "outputs": [],
   "source": [
    "def func(x):\n",
    "    x = 2020  ## local variable \n",
    "    print(\"the value of x is \" + str(x))\n",
    "    return x"
   ]
  },
  {
   "cell_type": "code",
   "execution_count": null,
   "metadata": {},
   "outputs": [],
   "source": [
    "func(x)"
   ]
  },
  {
   "cell_type": "code",
   "execution_count": null,
   "metadata": {},
   "outputs": [],
   "source": [
    "print(x)"
   ]
  },
  {
   "cell_type": "markdown",
   "metadata": {},
   "source": [
    "#### The global statement"
   ]
  },
  {
   "cell_type": "code",
   "execution_count": null,
   "metadata": {},
   "outputs": [],
   "source": [
    "X = 88"
   ]
  },
  {
   "cell_type": "code",
   "execution_count": null,
   "metadata": {},
   "outputs": [],
   "source": [
    "def func():\n",
    "    global X\n",
    "    X= 99  \n",
    "    print(X)"
   ]
  },
  {
   "cell_type": "code",
   "execution_count": null,
   "metadata": {},
   "outputs": [],
   "source": [
    "func()                     "
   ]
  },
  {
   "cell_type": "code",
   "execution_count": null,
   "metadata": {},
   "outputs": [],
   "source": [
    "X"
   ]
  },
  {
   "cell_type": "markdown",
   "metadata": {},
   "source": [
    "Minimize globals! It is confusing."
   ]
  },
  {
   "cell_type": "markdown",
   "metadata": {},
   "source": [
    "#### Some more tips for using functions:\n",
    "\n",
    "- each function should have a single, unified purpose.\n",
    "\n",
    "- each function should be relatively small"
   ]
  }
 ],
 "metadata": {
  "kernelspec": {
   "display_name": "Python 3 (ipykernel)",
   "language": "python",
   "name": "python3"
  },
  "language_info": {
   "codemirror_mode": {
    "name": "ipython",
    "version": 3
   },
   "file_extension": ".py",
   "mimetype": "text/x-python",
   "name": "python",
   "nbconvert_exporter": "python",
   "pygments_lexer": "ipython3",
   "version": "3.9.7"
  },
  "toc": {
   "base_numbering": 1,
   "nav_menu": {},
   "number_sections": false,
   "sideBar": true,
   "skip_h1_title": false,
   "title_cell": "Table of Contents",
   "title_sidebar": "Contents",
   "toc_cell": false,
   "toc_position": {},
   "toc_section_display": true,
   "toc_window_display": false
  }
 },
 "nbformat": 4,
 "nbformat_minor": 4
}
